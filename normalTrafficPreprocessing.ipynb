{
 "cells": [
  {
   "cell_type": "code",
   "execution_count": 564,
   "id": "f9432355",
   "metadata": {},
   "outputs": [],
   "source": [
    "# this are the importand includes used \n",
    "\n",
    "import pandas as pd\n",
    "import matplotlib.pyplot as plt\n",
    "import numpy as np\n"
   ]
  },
  {
   "cell_type": "code",
   "execution_count": 394,
   "id": "a711a09f",
   "metadata": {
    "scrolled": true
   },
   "outputs": [
    {
     "data": {
      "text/html": [
       "<div>\n",
       "<style scoped>\n",
       "    .dataframe tbody tr th:only-of-type {\n",
       "        vertical-align: middle;\n",
       "    }\n",
       "\n",
       "    .dataframe tbody tr th {\n",
       "        vertical-align: top;\n",
       "    }\n",
       "\n",
       "    .dataframe thead th {\n",
       "        text-align: right;\n",
       "    }\n",
       "</style>\n",
       "<table border=\"1\" class=\"dataframe\">\n",
       "  <thead>\n",
       "    <tr style=\"text-align: right;\">\n",
       "      <th></th>\n",
       "      <th>Duration sec</th>\n",
       "      <th>Tx packets</th>\n",
       "      <th>Rx packets</th>\n",
       "      <th>Tx bytes</th>\n",
       "      <th>Rx bytes</th>\n",
       "      <th>status_0_1</th>\n",
       "    </tr>\n",
       "  </thead>\n",
       "  <tbody>\n",
       "    <tr>\n",
       "      <th>0</th>\n",
       "      <td>212,212,212</td>\n",
       "      <td>0,31,32</td>\n",
       "      <td>0,11,11</td>\n",
       "      <td>0,4766,4856</td>\n",
       "      <td>0,866,866</td>\n",
       "      <td>0,0,0,0</td>\n",
       "    </tr>\n",
       "    <tr>\n",
       "      <th>1</th>\n",
       "      <td>217,217,217</td>\n",
       "      <td>0,31,32</td>\n",
       "      <td>0,11,11</td>\n",
       "      <td>0,4766,4856</td>\n",
       "      <td>0,866,866</td>\n",
       "      <td>0,0,0,0</td>\n",
       "    </tr>\n",
       "    <tr>\n",
       "      <th>2</th>\n",
       "      <td>222,222,222</td>\n",
       "      <td>0,31,32</td>\n",
       "      <td>0,11,11</td>\n",
       "      <td>0,4766,4856</td>\n",
       "      <td>0,866,866</td>\n",
       "      <td>0,0,0,0</td>\n",
       "    </tr>\n",
       "    <tr>\n",
       "      <th>3</th>\n",
       "      <td>227,227,227</td>\n",
       "      <td>0,31,32</td>\n",
       "      <td>0,11,11</td>\n",
       "      <td>0,4766,4856</td>\n",
       "      <td>0,866,866</td>\n",
       "      <td>0,0,0,0</td>\n",
       "    </tr>\n",
       "    <tr>\n",
       "      <th>4</th>\n",
       "      <td>232,232,232</td>\n",
       "      <td>0,31,32</td>\n",
       "      <td>0,11,11</td>\n",
       "      <td>0,4766,4856</td>\n",
       "      <td>0,866,866</td>\n",
       "      <td>0,0,0,0</td>\n",
       "    </tr>\n",
       "    <tr>\n",
       "      <th>...</th>\n",
       "      <td>...</td>\n",
       "      <td>...</td>\n",
       "      <td>...</td>\n",
       "      <td>...</td>\n",
       "      <td>...</td>\n",
       "      <td>...</td>\n",
       "    </tr>\n",
       "    <tr>\n",
       "      <th>1438</th>\n",
       "      <td>741,074,107,410</td>\n",
       "      <td>0,22774,22886</td>\n",
       "      <td>0,22855,22744</td>\n",
       "      <td>0,6189003,1894713</td>\n",
       "      <td>0,1889838,6184218</td>\n",
       "      <td>0,0,0,0</td>\n",
       "    </tr>\n",
       "    <tr>\n",
       "      <th>1439</th>\n",
       "      <td>741,574,157,415</td>\n",
       "      <td>0,22774,22886</td>\n",
       "      <td>0,22855,22744</td>\n",
       "      <td>0,6189003,1894713</td>\n",
       "      <td>0,1889838,6184218</td>\n",
       "      <td>0,0,0,0</td>\n",
       "    </tr>\n",
       "    <tr>\n",
       "      <th>1440</th>\n",
       "      <td>742,074,207,420</td>\n",
       "      <td>0,22774,22886</td>\n",
       "      <td>0,22855,22744</td>\n",
       "      <td>0,6189003,1894713</td>\n",
       "      <td>0,1889838,6184218</td>\n",
       "      <td>0,0,0,0</td>\n",
       "    </tr>\n",
       "    <tr>\n",
       "      <th>1441</th>\n",
       "      <td>742,574,257,425</td>\n",
       "      <td>0,22774,22886</td>\n",
       "      <td>0,22855,22744</td>\n",
       "      <td>0,6189003,1894713</td>\n",
       "      <td>0,1889838,6184218</td>\n",
       "      <td>0,0,0,0</td>\n",
       "    </tr>\n",
       "    <tr>\n",
       "      <th>1442</th>\n",
       "      <td>743,074,307,430</td>\n",
       "      <td>0,22774,22886</td>\n",
       "      <td>0,22855,22744</td>\n",
       "      <td>0,6189003,1894713</td>\n",
       "      <td>0,1889838,6184218</td>\n",
       "      <td>0,0,0,0</td>\n",
       "    </tr>\n",
       "  </tbody>\n",
       "</table>\n",
       "<p>1443 rows × 6 columns</p>\n",
       "</div>"
      ],
      "text/plain": [
       "         Duration sec     Tx packets     Rx packets           Tx bytes  \\\n",
       "0         212,212,212        0,31,32        0,11,11        0,4766,4856   \n",
       "1         217,217,217        0,31,32        0,11,11        0,4766,4856   \n",
       "2         222,222,222        0,31,32        0,11,11        0,4766,4856   \n",
       "3         227,227,227        0,31,32        0,11,11        0,4766,4856   \n",
       "4         232,232,232        0,31,32        0,11,11        0,4766,4856   \n",
       "...               ...            ...            ...                ...   \n",
       "1438  741,074,107,410  0,22774,22886  0,22855,22744  0,6189003,1894713   \n",
       "1439  741,574,157,415  0,22774,22886  0,22855,22744  0,6189003,1894713   \n",
       "1440  742,074,207,420  0,22774,22886  0,22855,22744  0,6189003,1894713   \n",
       "1441  742,574,257,425  0,22774,22886  0,22855,22744  0,6189003,1894713   \n",
       "1442  743,074,307,430  0,22774,22886  0,22855,22744  0,6189003,1894713   \n",
       "\n",
       "               Rx bytes status_0_1  \n",
       "0             0,866,866    0,0,0,0  \n",
       "1             0,866,866    0,0,0,0  \n",
       "2             0,866,866    0,0,0,0  \n",
       "3             0,866,866    0,0,0,0  \n",
       "4             0,866,866    0,0,0,0  \n",
       "...                 ...        ...  \n",
       "1438  0,1889838,6184218    0,0,0,0  \n",
       "1439  0,1889838,6184218    0,0,0,0  \n",
       "1440  0,1889838,6184218    0,0,0,0  \n",
       "1441  0,1889838,6184218    0,0,0,0  \n",
       "1442  0,1889838,6184218    0,0,0,0  \n",
       "\n",
       "[1443 rows x 6 columns]"
      ]
     },
     "execution_count": 394,
     "metadata": {},
     "output_type": "execute_result"
    }
   ],
   "source": [
    "dataset = pd.read_csv(\"dataSet/normalTrafficPart2Preprocessed.csv\")\n",
    "dataset"
   ]
  },
  {
   "cell_type": "code",
   "execution_count": 523,
   "id": "f264dea2",
   "metadata": {},
   "outputs": [
    {
     "name": "stdout",
     "output_type": "stream",
     "text": [
      "0    0,4766,4856\n",
      "1    0,4766,4856\n",
      "2    0,4766,4856\n",
      "3    0,4766,4856\n",
      "4    0,4766,4856\n",
      "Name: Tx bytes, dtype: object 0    0,31,32\n",
      "1    0,31,32\n",
      "2    0,31,32\n",
      "3    0,31,32\n",
      "4    0,31,32\n",
      "Name: Tx packets, dtype: object\n",
      "1443 1443\n"
     ]
    }
   ],
   "source": [
    "portTxbytes = (dataset['Tx bytes'])\n",
    "portTxpackets = (dataset['Tx packets'])\n",
    "\n",
    "\n",
    "print(portTxbytes[0:5],portTxpackets[0:5])\n",
    "\n",
    "print(len(portTxbytes),len(portTxpackets))\n"
   ]
  },
  {
   "cell_type": "code",
   "execution_count": 455,
   "id": "692ac51f",
   "metadata": {},
   "outputs": [
    {
     "data": {
      "text/plain": [
       "<matplotlib.legend.Legend at 0x14c6e004dc0>"
      ]
     },
     "execution_count": 455,
     "metadata": {},
     "output_type": "execute_result"
    },
    {
     "data": {
      "image/png": "[encoded data removed]",
      "text/plain": [
       "<Figure size 432x288 with 1 Axes>"
      ]
     },
     "metadata": {
      "needs_background": "light"
     },
     "output_type": "display_data"
    }
   ],
   "source": [
    "plt.plot(portTxbytes)\n",
    "plt.plot(portTxpackets)\n",
    "plt.legend(['Tx-bytes', 'Tx-packets '])"
   ]
  },
  {
   "cell_type": "code",
   "execution_count": 525,
   "id": "a2ac92a4",
   "metadata": {},
   "outputs": [
    {
     "name": "stdout",
     "output_type": "stream",
     "text": [
      "1443\n",
      "1443\n"
     ]
    }
   ],
   "source": [
    "hostTxbytes = []\n",
    "hostTxpackets =  []\n",
    "for i in portTxbytes:  \n",
    "    splitTins = i.split(',') \n",
    "    newArray = np.array(splitTins)    \n",
    "    hostTxbytes.append(newArray)       \n",
    "\n",
    "\n",
    "\n",
    "\n",
    "for j in portTxpackets:  \n",
    "    split_packs = j.split(',') \n",
    "    new_split_pack = np.array(split_packs)    \n",
    "    hostTxpackets.append(new_split_pack)       \n",
    "\n",
    "\n",
    "print(len(hostTxbytes))\n",
    "print(len(hostTxpackets))"
   ]
  },
  {
   "cell_type": "code",
   "execution_count": 526,
   "id": "8b14c83f",
   "metadata": {},
   "outputs": [
    {
     "name": "stdout",
     "output_type": "stream",
     "text": [
      "(1443, 3)\n",
      "-------\n",
      "(1443, 3)\n"
     ]
    }
   ],
   "source": [
    "hostTxbytes_np = np.array(hostTxbytes)\n",
    "newTxBytes = hostTxbytes_np.astype(np.int)\n",
    "\n",
    "\n",
    "hostTxpackets_np = np.array(hostTxpackets)\n",
    "newTxPackets = hostTxpackets_np.astype(np.int)\n",
    "\n",
    "\n",
    "print(newTxBytes.shape)\n",
    "print(\"-------\")\n",
    "print(newTxPackets.shape)"
   ]
  },
  {
   "cell_type": "code",
   "execution_count": 548,
   "id": "4bf6a700",
   "metadata": {},
   "outputs": [
    {
     "name": "stdout",
     "output_type": "stream",
     "text": [
      "(1442,)\n",
      "----\n",
      "(1442,)\n"
     ]
    }
   ],
   "source": [
    "host1Txbytes = []\n",
    "host1Txpackets = []\n",
    "\n",
    "hostNumber = 1\n",
    "\n",
    "for i in list(newTxBytes):\n",
    "    host1Txbytes.append(i[hostNumber])\n",
    "    \n",
    "host1Txbytes_np = np.array(host1Txbytes)\n",
    "host1Txbytes_diff = (np.diff(host1Txbytes_np))\n",
    "\n",
    "\n",
    "\n",
    "for j in list(newTxPackets):\n",
    "    host1Txpackets.append(j[hostNumber])\n",
    "    \n",
    "host1Txpackets_np = np.array(host1Txpackets)\n",
    "host1Txpackets_diff = (np.diff(host1Txpackets_np))\n",
    "    \n",
    "\n",
    "\n",
    "\n",
    "\n",
    "print(host1Txbytes_diff.shape)\n",
    "print(\"----\")\n",
    "print(host1Txpackets_diff.shape)       \n"
   ]
  },
  {
   "cell_type": "code",
   "execution_count": 549,
   "id": "65e191b0",
   "metadata": {
    "scrolled": true
   },
   "outputs": [
    {
     "data": {
      "text/plain": [
       "Text(0.5, 1.0, 'Normal Traffic if 5 seconds interval')"
      ]
     },
     "execution_count": 549,
     "metadata": {},
     "output_type": "execute_result"
    },
    {
     "data": {
      "image/png": "[encoded data removed]",
      "text/plain": [
       "<Figure size 432x288 with 1 Axes>"
      ]
     },
     "metadata": {
      "needs_background": "light"
     },
     "output_type": "display_data"
    }
   ],
   "source": [
    "plt.plot(host1Txbytes_diff)\n",
    "\n",
    "plt.xlabel('Frame number')\n",
    "plt.ylabel('Byte diffrence')\n",
    "plt.title(\"Normal Traffic if 5 seconds interval\")\n",
    "\n",
    "\n",
    "\n",
    "\n",
    "\n"
   ]
  },
  {
   "cell_type": "code",
   "execution_count": 551,
   "id": "e33f6986",
   "metadata": {},
   "outputs": [
    {
     "data": {
      "text/plain": [
       "Text(0.5, 1.0, 'Normal Traffic if 5 seconds interval')"
      ]
     },
     "execution_count": 551,
     "metadata": {},
     "output_type": "execute_result"
    },
    {
     "data": {
      "image/png": "[encoded data removed]",
      "text/plain": [
       "<Figure size 432x288 with 1 Axes>"
      ]
     },
     "metadata": {
      "needs_background": "light"
     },
     "output_type": "display_data"
    }
   ],
   "source": [
    "\n",
    "\n",
    "plt.plot(host1Txpackets_diff)\n",
    "plt.xlabel('Frame number')\n",
    "plt.ylabel('Packet diffrence')\n",
    "\n",
    "plt.title(\"Normal Traffic if 5 seconds interval\")"
   ]
  },
  {
   "cell_type": "code",
   "execution_count": 552,
   "id": "04b91d03",
   "metadata": {},
   "outputs": [],
   "source": [
    "txbytesDf = pd.DataFrame(host1Txbytes_diff, columns=['Tx byte difference '])"
   ]
  },
  {
   "cell_type": "code",
   "execution_count": 530,
   "id": "0e9db0f4",
   "metadata": {},
   "outputs": [],
   "source": [
    "txpacketsDf = pd.DataFrame(host1Txpackets_diff, columns=['Tx packets differnce'])"
   ]
  },
  {
   "cell_type": "code",
   "execution_count": 542,
   "id": "fde3a280",
   "metadata": {},
   "outputs": [],
   "source": [
    "statusDF = pd.DataFrame(np.zeros(len(txbytesDf)), columns=['status'])\n"
   ]
  },
  {
   "cell_type": "code",
   "execution_count": 560,
   "id": "fca52050",
   "metadata": {},
   "outputs": [
    {
     "data": {
      "text/html": [
       "<div>\n",
       "<style scoped>\n",
       "    .dataframe tbody tr th:only-of-type {\n",
       "        vertical-align: middle;\n",
       "    }\n",
       "\n",
       "    .dataframe tbody tr th {\n",
       "        vertical-align: top;\n",
       "    }\n",
       "\n",
       "    .dataframe thead th {\n",
       "        text-align: right;\n",
       "    }\n",
       "</style>\n",
       "<table border=\"1\" class=\"dataframe\">\n",
       "  <thead>\n",
       "    <tr style=\"text-align: right;\">\n",
       "      <th></th>\n",
       "      <th>Tx byte difference</th>\n",
       "      <th>Tx packets differnce</th>\n",
       "      <th>status</th>\n",
       "    </tr>\n",
       "  </thead>\n",
       "  <tbody>\n",
       "    <tr>\n",
       "      <th>0</th>\n",
       "      <td>0</td>\n",
       "      <td>0</td>\n",
       "      <td>0.0</td>\n",
       "    </tr>\n",
       "    <tr>\n",
       "      <th>1</th>\n",
       "      <td>0</td>\n",
       "      <td>0</td>\n",
       "      <td>0.0</td>\n",
       "    </tr>\n",
       "    <tr>\n",
       "      <th>2</th>\n",
       "      <td>0</td>\n",
       "      <td>0</td>\n",
       "      <td>0.0</td>\n",
       "    </tr>\n",
       "    <tr>\n",
       "      <th>3</th>\n",
       "      <td>0</td>\n",
       "      <td>0</td>\n",
       "      <td>0.0</td>\n",
       "    </tr>\n",
       "    <tr>\n",
       "      <th>4</th>\n",
       "      <td>70</td>\n",
       "      <td>1</td>\n",
       "      <td>0.0</td>\n",
       "    </tr>\n",
       "    <tr>\n",
       "      <th>...</th>\n",
       "      <td>...</td>\n",
       "      <td>...</td>\n",
       "      <td>...</td>\n",
       "    </tr>\n",
       "    <tr>\n",
       "      <th>1437</th>\n",
       "      <td>0</td>\n",
       "      <td>0</td>\n",
       "      <td>0.0</td>\n",
       "    </tr>\n",
       "    <tr>\n",
       "      <th>1438</th>\n",
       "      <td>0</td>\n",
       "      <td>0</td>\n",
       "      <td>0.0</td>\n",
       "    </tr>\n",
       "    <tr>\n",
       "      <th>1439</th>\n",
       "      <td>0</td>\n",
       "      <td>0</td>\n",
       "      <td>0.0</td>\n",
       "    </tr>\n",
       "    <tr>\n",
       "      <th>1440</th>\n",
       "      <td>0</td>\n",
       "      <td>0</td>\n",
       "      <td>0.0</td>\n",
       "    </tr>\n",
       "    <tr>\n",
       "      <th>1441</th>\n",
       "      <td>0</td>\n",
       "      <td>0</td>\n",
       "      <td>0.0</td>\n",
       "    </tr>\n",
       "  </tbody>\n",
       "</table>\n",
       "<p>1442 rows × 3 columns</p>\n",
       "</div>"
      ],
      "text/plain": [
       "      Tx byte difference   Tx packets differnce  status\n",
       "0                       0                     0     0.0\n",
       "1                       0                     0     0.0\n",
       "2                       0                     0     0.0\n",
       "3                       0                     0     0.0\n",
       "4                      70                     1     0.0\n",
       "...                   ...                   ...     ...\n",
       "1437                    0                     0     0.0\n",
       "1438                    0                     0     0.0\n",
       "1439                    0                     0     0.0\n",
       "1440                    0                     0     0.0\n",
       "1441                    0                     0     0.0\n",
       "\n",
       "[1442 rows x 3 columns]"
      ]
     },
     "execution_count": 560,
     "metadata": {},
     "output_type": "execute_result"
    }
   ],
   "source": [
    "\n",
    "comp__ = [txbytesDf,txpacketsDf,statusDF]\n",
    "\n",
    "\n",
    "result = pd.concat(comp__, axis=1, join='inner')\n",
    "\n",
    "result\n"
   ]
  },
  {
   "cell_type": "code",
   "execution_count": 563,
   "id": "b3199249",
   "metadata": {},
   "outputs": [],
   "source": [
    "result.to_csv(\"dataSet/finalData.csv\")"
   ]
  },
  {
   "cell_type": "code",
   "execution_count": null,
   "id": "6817904b",
   "metadata": {},
   "outputs": [],
   "source": []
  }
 ],
 "metadata": {
  "kernelspec": {
   "display_name": "Python 3 (ipykernel)",
   "language": "python",
   "name": "python3"
  },
  "language_info": {
   "codemirror_mode": {
    "name": "ipython",
    "version": 3
   },
   "file_extension": ".py",
   "mimetype": "text/x-python",
   "name": "python",
   "nbconvert_exporter": "python",
   "pygments_lexer": "ipython3",
   "version": "3.8.6"
  }
 },
 "nbformat": 4,
 "nbformat_minor": 5
}
