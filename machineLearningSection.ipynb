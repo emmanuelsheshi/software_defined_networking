{
 "cells": [
  {
   "cell_type": "code",
   "execution_count": 2,
   "id": "ef957bc1",
   "metadata": {},
   "outputs": [],
   "source": [
    "import pandas as pd\n",
    "import numpy as np\n",
    "from IPython.display import display\n",
    "import matplotlib.pyplot as plt"
   ]
  },
  {
   "cell_type": "code",
   "execution_count": 3,
   "id": "c31e4514",
   "metadata": {},
   "outputs": [],
   "source": [
    "### lets try some machine leaning here #####\n",
    "from sklearn.feature_selection import SelectFromModel\n",
    "from sklearn.model_selection import train_test_split\n",
    "import numpy as np\n",
    "import matplotlib.pyplot as plt\n",
    "from sklearn.ensemble import RandomForestClassifier"
   ]
  },
  {
   "cell_type": "code",
   "execution_count": 4,
   "id": "63151285",
   "metadata": {},
   "outputs": [],
   "source": [
    "select = SelectFromModel(RandomForestClassifier(n_estimators=100,random_state=42),threshold='median')"
   ]
  },
  {
   "cell_type": "code",
   "execution_count": 5,
   "id": "c3b6e05c",
   "metadata": {},
   "outputs": [
    {
     "data": {
      "text/html": [
       "<div>\n",
       "<style scoped>\n",
       "    .dataframe tbody tr th:only-of-type {\n",
       "        vertical-align: middle;\n",
       "    }\n",
       "\n",
       "    .dataframe tbody tr th {\n",
       "        vertical-align: top;\n",
       "    }\n",
       "\n",
       "    .dataframe thead th {\n",
       "        text-align: right;\n",
       "    }\n",
       "</style>\n",
       "<table border=\"1\" class=\"dataframe\">\n",
       "  <thead>\n",
       "    <tr style=\"text-align: right;\">\n",
       "      <th></th>\n",
       "      <th>index</th>\n",
       "      <th>Tx byte difference</th>\n",
       "      <th>Tx packets differnce</th>\n",
       "      <th>status</th>\n",
       "    </tr>\n",
       "  </thead>\n",
       "  <tbody>\n",
       "    <tr>\n",
       "      <th>0</th>\n",
       "      <td>1</td>\n",
       "      <td>1291518</td>\n",
       "      <td>23917</td>\n",
       "      <td>1</td>\n",
       "    </tr>\n",
       "    <tr>\n",
       "      <th>1</th>\n",
       "      <td>2</td>\n",
       "      <td>1256314</td>\n",
       "      <td>23265</td>\n",
       "      <td>1</td>\n",
       "    </tr>\n",
       "    <tr>\n",
       "      <th>2</th>\n",
       "      <td>3</td>\n",
       "      <td>10417</td>\n",
       "      <td>40</td>\n",
       "      <td>0</td>\n",
       "    </tr>\n",
       "    <tr>\n",
       "      <th>3</th>\n",
       "      <td>4</td>\n",
       "      <td>0</td>\n",
       "      <td>0</td>\n",
       "      <td>0</td>\n",
       "    </tr>\n",
       "    <tr>\n",
       "      <th>4</th>\n",
       "      <td>5</td>\n",
       "      <td>10233</td>\n",
       "      <td>36</td>\n",
       "      <td>0</td>\n",
       "    </tr>\n",
       "    <tr>\n",
       "      <th>...</th>\n",
       "      <td>...</td>\n",
       "      <td>...</td>\n",
       "      <td>...</td>\n",
       "      <td>...</td>\n",
       "    </tr>\n",
       "    <tr>\n",
       "      <th>1895</th>\n",
       "      <td>1896</td>\n",
       "      <td>6756</td>\n",
       "      <td>23</td>\n",
       "      <td>0</td>\n",
       "    </tr>\n",
       "    <tr>\n",
       "      <th>1896</th>\n",
       "      <td>1897</td>\n",
       "      <td>0</td>\n",
       "      <td>0</td>\n",
       "      <td>0</td>\n",
       "    </tr>\n",
       "    <tr>\n",
       "      <th>1897</th>\n",
       "      <td>1898</td>\n",
       "      <td>6360</td>\n",
       "      <td>17</td>\n",
       "      <td>0</td>\n",
       "    </tr>\n",
       "    <tr>\n",
       "      <th>1898</th>\n",
       "      <td>1899</td>\n",
       "      <td>1293840</td>\n",
       "      <td>23960</td>\n",
       "      <td>1</td>\n",
       "    </tr>\n",
       "    <tr>\n",
       "      <th>1899</th>\n",
       "      <td>1900</td>\n",
       "      <td>1286754</td>\n",
       "      <td>23829</td>\n",
       "      <td>1</td>\n",
       "    </tr>\n",
       "  </tbody>\n",
       "</table>\n",
       "<p>1900 rows × 4 columns</p>\n",
       "</div>"
      ],
      "text/plain": [
       "      index  Tx byte difference   Tx packets differnce  status\n",
       "0         1              1291518                 23917       1\n",
       "1         2              1256314                 23265       1\n",
       "2         3                10417                    40       0\n",
       "3         4                    0                     0       0\n",
       "4         5                10233                    36       0\n",
       "...     ...                  ...                   ...     ...\n",
       "1895   1896                 6756                    23       0\n",
       "1896   1897                    0                     0       0\n",
       "1897   1898                 6360                    17       0\n",
       "1898   1899              1293840                 23960       1\n",
       "1899   1900              1286754                 23829       1\n",
       "\n",
       "[1900 rows x 4 columns]"
      ]
     },
     "metadata": {},
     "output_type": "display_data"
    }
   ],
   "source": [
    "data = pd.read_csv('dataSet/combinedData_withIndex.csv',header=0  ,)\n",
    "display(data)"
   ]
  },
  {
   "cell_type": "code",
   "execution_count": 7,
   "id": "952b1011",
   "metadata": {},
   "outputs": [],
   "source": [
    "targets = data['status']\n",
    "\n",
    "features = data.drop(columns= ['status', 'index'])\n",
    "\n"
   ]
  },
  {
   "cell_type": "code",
   "execution_count": 8,
   "id": "cea1ffac",
   "metadata": {},
   "outputs": [
    {
     "data": {
      "text/html": [
       "<div>\n",
       "<style scoped>\n",
       "    .dataframe tbody tr th:only-of-type {\n",
       "        vertical-align: middle;\n",
       "    }\n",
       "\n",
       "    .dataframe tbody tr th {\n",
       "        vertical-align: top;\n",
       "    }\n",
       "\n",
       "    .dataframe thead th {\n",
       "        text-align: right;\n",
       "    }\n",
       "</style>\n",
       "<table border=\"1\" class=\"dataframe\">\n",
       "  <thead>\n",
       "    <tr style=\"text-align: right;\">\n",
       "      <th></th>\n",
       "      <th>Tx byte difference</th>\n",
       "      <th>Tx packets differnce</th>\n",
       "    </tr>\n",
       "  </thead>\n",
       "  <tbody>\n",
       "    <tr>\n",
       "      <th>0</th>\n",
       "      <td>1291518</td>\n",
       "      <td>23917</td>\n",
       "    </tr>\n",
       "    <tr>\n",
       "      <th>1</th>\n",
       "      <td>1256314</td>\n",
       "      <td>23265</td>\n",
       "    </tr>\n",
       "    <tr>\n",
       "      <th>2</th>\n",
       "      <td>10417</td>\n",
       "      <td>40</td>\n",
       "    </tr>\n",
       "    <tr>\n",
       "      <th>3</th>\n",
       "      <td>0</td>\n",
       "      <td>0</td>\n",
       "    </tr>\n",
       "    <tr>\n",
       "      <th>4</th>\n",
       "      <td>10233</td>\n",
       "      <td>36</td>\n",
       "    </tr>\n",
       "    <tr>\n",
       "      <th>...</th>\n",
       "      <td>...</td>\n",
       "      <td>...</td>\n",
       "    </tr>\n",
       "    <tr>\n",
       "      <th>1895</th>\n",
       "      <td>6756</td>\n",
       "      <td>23</td>\n",
       "    </tr>\n",
       "    <tr>\n",
       "      <th>1896</th>\n",
       "      <td>0</td>\n",
       "      <td>0</td>\n",
       "    </tr>\n",
       "    <tr>\n",
       "      <th>1897</th>\n",
       "      <td>6360</td>\n",
       "      <td>17</td>\n",
       "    </tr>\n",
       "    <tr>\n",
       "      <th>1898</th>\n",
       "      <td>1293840</td>\n",
       "      <td>23960</td>\n",
       "    </tr>\n",
       "    <tr>\n",
       "      <th>1899</th>\n",
       "      <td>1286754</td>\n",
       "      <td>23829</td>\n",
       "    </tr>\n",
       "  </tbody>\n",
       "</table>\n",
       "<p>1900 rows × 2 columns</p>\n",
       "</div>"
      ],
      "text/plain": [
       "      Tx byte difference   Tx packets differnce\n",
       "0                 1291518                 23917\n",
       "1                 1256314                 23265\n",
       "2                   10417                    40\n",
       "3                       0                     0\n",
       "4                   10233                    36\n",
       "...                   ...                   ...\n",
       "1895                 6756                    23\n",
       "1896                    0                     0\n",
       "1897                 6360                    17\n",
       "1898              1293840                 23960\n",
       "1899              1286754                 23829\n",
       "\n",
       "[1900 rows x 2 columns]"
      ]
     },
     "execution_count": 8,
     "metadata": {},
     "output_type": "execute_result"
    }
   ],
   "source": [
    "features"
   ]
  },
  {
   "cell_type": "code",
   "execution_count": 9,
   "id": "a4e0aea1",
   "metadata": {},
   "outputs": [
    {
     "data": {
      "text/plain": [
       "0       1\n",
       "1       1\n",
       "2       0\n",
       "3       0\n",
       "4       0\n",
       "       ..\n",
       "1895    0\n",
       "1896    0\n",
       "1897    0\n",
       "1898    1\n",
       "1899    1\n",
       "Name: status, Length: 1900, dtype: int64"
      ]
     },
     "execution_count": 9,
     "metadata": {},
     "output_type": "execute_result"
    }
   ],
   "source": [
    "targets"
   ]
  },
  {
   "cell_type": "code",
   "execution_count": 58,
   "id": "b16f8316",
   "metadata": {},
   "outputs": [],
   "source": [
    "from sklearn.preprocessing import StandardScaler, MinMaxScaler"
   ]
  },
  {
   "cell_type": "code",
   "execution_count": null,
   "id": "47479607",
   "metadata": {},
   "outputs": [],
   "source": []
  },
  {
   "cell_type": "code",
   "execution_count": 104,
   "id": "7c93e076",
   "metadata": {},
   "outputs": [],
   "source": [
    "\n",
    "X = features.values\n",
    "y = targets.values\n",
    "\n",
    "X_train, X_test, y_train,y_test = train_test_split(X, y, random_state=42, test_size=0.5)\n"
   ]
  },
  {
   "cell_type": "code",
   "execution_count": 229,
   "id": "3fdd33e1",
   "metadata": {},
   "outputs": [],
   "source": [
    "minmaxScaller = MinMaxScaler(feature_range=(0,1))\n",
    "\n"
   ]
  },
  {
   "cell_type": "code",
   "execution_count": 230,
   "id": "fed9f8a7",
   "metadata": {},
   "outputs": [
    {
     "name": "stdout",
     "output_type": "stream",
     "text": [
      "the shape of X_train is  (950, 2)\n",
      "the shape of X-train_s is  (950, 1)\n"
     ]
    },
    {
     "data": {
      "text/plain": [
       "[<matplotlib.lines.Line2D at 0x1a987871a30>]"
      ]
     },
     "execution_count": 230,
     "metadata": {},
     "output_type": "execute_result"
    },
    {
     "data": {
      "image/png": "[encoded data removed]",
      "text/plain": [
       "<Figure size 432x288 with 1 Axes>"
      ]
     },
     "metadata": {
      "needs_background": "light"
     },
     "output_type": "display_data"
    }
   ],
   "source": [
    "X_train_s = select.fit_transform(X_train, y_train)\n",
    "\n",
    "X_test_s = select.transform(X_test)\n",
    "\n",
    "print('the shape of X_train is ', X_train.shape)\n",
    "print('the shape of X-train_s is ', X_train_s.shape)\n",
    "\n",
    "\n",
    "plt.plot(X_test_s) ### packet Tx was selected here\n"
   ]
  },
  {
   "cell_type": "code",
   "execution_count": 236,
   "id": "3985611d",
   "metadata": {},
   "outputs": [
    {
     "data": {
      "text/plain": [
       "array([0.])"
      ]
     },
     "execution_count": 236,
     "metadata": {},
     "output_type": "execute_result"
    }
   ],
   "source": [
    "X_train_scalled = minmaxScaller.fit_transform(X_train_s)\n",
    "X_test_scalled = minmaxScaller.fit_transform(X_test_s)\n",
    "\n",
    "\n",
    "minmaxScaller.scale_\n",
    "\n"
   ]
  },
  {
   "cell_type": "code",
   "execution_count": 138,
   "id": "70be7d05",
   "metadata": {},
   "outputs": [
    {
     "data": {
      "text/plain": [
       "[<matplotlib.lines.Line2D at 0x1a98740a2e0>]"
      ]
     },
     "execution_count": 138,
     "metadata": {},
     "output_type": "execute_result"
    },
    {
     "data": {
      "image/png": "[encoded data removed]",
      "text/plain": [
       "<Figure size 432x288 with 1 Axes>"
      ]
     },
     "metadata": {
      "needs_background": "light"
     },
     "output_type": "display_data"
    }
   ],
   "source": [
    "plt.plot(X_test_scalled)"
   ]
  },
  {
   "cell_type": "code",
   "execution_count": 139,
   "id": "0eb520e7",
   "metadata": {},
   "outputs": [],
   "source": [
    "from sklearn.linear_model import LogisticRegression"
   ]
  },
  {
   "cell_type": "code",
   "execution_count": 142,
   "id": "7c720261",
   "metadata": {},
   "outputs": [],
   "source": [
    "logReg = LogisticRegression(max_iter=100 ,C=100)"
   ]
  },
  {
   "cell_type": "code",
   "execution_count": 143,
   "id": "e301e06e",
   "metadata": {},
   "outputs": [
    {
     "name": "stdout",
     "output_type": "stream",
     "text": [
      "the score on training data is 1.000\n",
      "the score on testing data is 1.000\n"
     ]
    }
   ],
   "source": [
    "logReg.fit(X_train_scalled,y_train)\n",
    "scoreTest  = logReg.score(X_test_scalled,y_test)\n",
    "scoreTrain = logReg.score(X_train_scalled,y_train)\n",
    "\n",
    "print(\"the score on training data is {:.3f}\".format(scoreTrain))\n",
    "print(\"the score on testing data is {:.3f}\".format(scoreTest))"
   ]
  },
  {
   "cell_type": "code",
   "execution_count": 148,
   "id": "973bbda0",
   "metadata": {},
   "outputs": [
    {
     "name": "stdout",
     "output_type": "stream",
     "text": [
      "the score on the training data is 1.000\n",
      "the score on the test data is 1.000\n"
     ]
    }
   ],
   "source": [
    "forest = RandomForestClassifier( random_state=47, n_estimators=100, max_features=\"sqrt\")\n",
    "forest.fit(X_train_scalled,y_train)\n",
    "\n",
    "forestScoreTest   = forest.score(X_test_scalled, y_test)\n",
    "forestScroreTrain = forest.score(X_train_scalled, y_train)\n",
    "\n",
    "print(\"the score on the training data is {:.3f}\".format(forestScroreTrain))\n",
    "print(\"the score on the test data is {:.3f}\".format(forestScoreTest))"
   ]
  },
  {
   "cell_type": "code",
   "execution_count": 279,
   "id": "25ce10ce",
   "metadata": {},
   "outputs": [
    {
     "name": "stdout",
     "output_type": "stream",
     "text": [
      "[[   36.]\n",
      " [23967.]]\n"
     ]
    },
    {
     "data": {
      "text/plain": [
       "array([0, 0], dtype=int64)"
      ]
     },
     "execution_count": 279,
     "metadata": {},
     "output_type": "execute_result"
    }
   ],
   "source": [
    "\n",
    "# print(X_test_scalled[0:2])\n",
    "my_test_1 = X_test_scalled[0:2]\n",
    "\n",
    "print(my_test_1/minmaxScaller.scale_)\n",
    "\n",
    "realData = np.array([[0],\n",
    "                    [0]])\n",
    "\n",
    "scalled_realData = realData*minmaxScaller.scale_\n",
    "\n",
    "mData = minmaxScaller.inverse_transform(my_test_1)\n",
    "\n",
    "\n",
    "forest.predict(scalled_realData)\n",
    "\n",
    "\n"
   ]
  },
  {
   "cell_type": "code",
   "execution_count": 280,
   "id": "ca277078",
   "metadata": {},
   "outputs": [],
   "source": [
    "feat_imp = pd.Series(forest.feature_importances_)"
   ]
  },
  {
   "cell_type": "code",
   "execution_count": 282,
   "id": "fcf84410",
   "metadata": {},
   "outputs": [
    {
     "name": "stdout",
     "output_type": "stream",
     "text": [
      "0    1.0\n",
      "dtype: float64\n"
     ]
    }
   ],
   "source": [
    "print(feat_imp)"
   ]
  },
  {
   "cell_type": "code",
   "execution_count": 287,
   "id": "f342c817",
   "metadata": {},
   "outputs": [],
   "source": [
    "import joblib"
   ]
  },
  {
   "cell_type": "code",
   "execution_count": 288,
   "id": "cf6b1cdb",
   "metadata": {},
   "outputs": [
    {
     "data": {
      "text/plain": [
       "['ddos_logisticRegression.pkl']"
      ]
     },
     "execution_count": 288,
     "metadata": {},
     "output_type": "execute_result"
    }
   ],
   "source": [
    "# Save the model as a pickle in a file\n",
    "joblib.dump(forest , 'ddos_randomForestClass.pkl')\n",
    "# Save the model as a pickle in a file\n",
    "joblib.dump(logReg , 'ddos_logisticRegression.pkl')"
   ]
  },
  {
   "cell_type": "code",
   "execution_count": null,
   "id": "07ef16ac",
   "metadata": {},
   "outputs": [],
   "source": []
  },
  {
   "cell_type": "code",
   "execution_count": null,
   "id": "aa892bc3",
   "metadata": {},
   "outputs": [],
   "source": []
  }
 ],
 "metadata": {
  "kernelspec": {
   "display_name": "Python 3 (ipykernel)",
   "language": "python",
   "name": "python3"
  },
  "language_info": {
   "codemirror_mode": {
    "name": "ipython",
    "version": 3
   },
   "file_extension": ".py",
   "mimetype": "text/x-python",
   "name": "python",
   "nbconvert_exporter": "python",
   "pygments_lexer": "ipython3",
   "version": "3.8.6"
  }
 },
 "nbformat": 4,
 "nbformat_minor": 5
}
