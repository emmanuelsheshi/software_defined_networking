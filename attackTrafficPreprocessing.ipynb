{
 "cells": [
  {
   "cell_type": "code",
   "execution_count": 1,
   "id": "25e16942",
   "metadata": {},
   "outputs": [],
   "source": [
    "# this are the importand includes used \n",
    "\n",
    "import pandas as pd\n",
    "import matplotlib.pyplot as plt\n",
    "import numpy as np"
   ]
  },
  {
   "cell_type": "code",
   "execution_count": 2,
   "id": "2a7d20d3",
   "metadata": {},
   "outputs": [
    {
     "data": {
      "text/html": [
       "<div>\n",
       "<style scoped>\n",
       "    .dataframe tbody tr th:only-of-type {\n",
       "        vertical-align: middle;\n",
       "    }\n",
       "\n",
       "    .dataframe tbody tr th {\n",
       "        vertical-align: top;\n",
       "    }\n",
       "\n",
       "    .dataframe thead th {\n",
       "        text-align: right;\n",
       "    }\n",
       "</style>\n",
       "<table border=\"1\" class=\"dataframe\">\n",
       "  <thead>\n",
       "    <tr style=\"text-align: right;\">\n",
       "      <th></th>\n",
       "      <th>Duration sec</th>\n",
       "      <th>Tx packets</th>\n",
       "      <th>Rx packets</th>\n",
       "      <th>Tx bytes</th>\n",
       "      <th>Rx bytes</th>\n",
       "      <th>Type</th>\n",
       "      <th>Type.1</th>\n",
       "    </tr>\n",
       "  </thead>\n",
       "  <tbody>\n",
       "    <tr>\n",
       "      <th>0</th>\n",
       "      <td>296,296,296</td>\n",
       "      <td>0,156100,156100</td>\n",
       "      <td>0,156080,156080</td>\n",
       "      <td>0,8432533,8432497</td>\n",
       "      <td>0,8428560,8428560</td>\n",
       "      <td>OFPT_MULTIPART_REPLY</td>\n",
       "      <td>OFPMP_PORT_STATS</td>\n",
       "    </tr>\n",
       "    <tr>\n",
       "      <th>1</th>\n",
       "      <td>301,301,301</td>\n",
       "      <td>0,178839,178838</td>\n",
       "      <td>0,178818,178818</td>\n",
       "      <td>0,9660439,9660349</td>\n",
       "      <td>0,9656412,9656412</td>\n",
       "      <td>OFPT_MULTIPART_REPLY</td>\n",
       "      <td>OFPMP_PORT_STATS</td>\n",
       "    </tr>\n",
       "    <tr>\n",
       "      <th>2</th>\n",
       "      <td>306,306,306</td>\n",
       "      <td>0,202832,202831</td>\n",
       "      <td>0,202811,202811</td>\n",
       "      <td>0,10956049,10955959</td>\n",
       "      <td>0,10952022,10952022</td>\n",
       "      <td>OFPT_MULTIPART_REPLY</td>\n",
       "      <td>OFPMP_PORT_STATS</td>\n",
       "    </tr>\n",
       "    <tr>\n",
       "      <th>3</th>\n",
       "      <td>311,311,311</td>\n",
       "      <td>0,226949,226949</td>\n",
       "      <td>0,226929,226929</td>\n",
       "      <td>0,12258355,12258319</td>\n",
       "      <td>0,12254382,12254382</td>\n",
       "      <td>OFPT_MULTIPART_REPLY</td>\n",
       "      <td>OFPMP_PORT_STATS</td>\n",
       "    </tr>\n",
       "    <tr>\n",
       "      <th>4</th>\n",
       "      <td>316,316,316</td>\n",
       "      <td>0,251056,251056</td>\n",
       "      <td>0,251036,251036</td>\n",
       "      <td>0,13560133,13560097</td>\n",
       "      <td>0,13556160,13556160</td>\n",
       "      <td>OFPT_MULTIPART_REPLY</td>\n",
       "      <td>OFPMP_PORT_STATS</td>\n",
       "    </tr>\n",
       "    <tr>\n",
       "      <th>...</th>\n",
       "      <td>...</td>\n",
       "      <td>...</td>\n",
       "      <td>...</td>\n",
       "      <td>...</td>\n",
       "      <td>...</td>\n",
       "      <td>...</td>\n",
       "      <td>...</td>\n",
       "    </tr>\n",
       "    <tr>\n",
       "      <th>454</th>\n",
       "      <td>2568,2568,2568</td>\n",
       "      <td>0,10904204,10904204</td>\n",
       "      <td>0,10904177,10904178</td>\n",
       "      <td>0,588828736,588828700</td>\n",
       "      <td>0,588824178,588824232</td>\n",
       "      <td>OFPT_MULTIPART_REPLY</td>\n",
       "      <td>OFPMP_PORT_STATS</td>\n",
       "    </tr>\n",
       "    <tr>\n",
       "      <th>455</th>\n",
       "      <td>2573,2573,2573</td>\n",
       "      <td>0,10927395,10927395</td>\n",
       "      <td>0,10927369,10927369</td>\n",
       "      <td>0,590081050,590081014</td>\n",
       "      <td>0,590076546,590076546</td>\n",
       "      <td>OFPT_MULTIPART_REPLY</td>\n",
       "      <td>OFPMP_PORT_STATS</td>\n",
       "    </tr>\n",
       "    <tr>\n",
       "      <th>456</th>\n",
       "      <td>2578,2578,2578</td>\n",
       "      <td>0,10950444,10950443</td>\n",
       "      <td>0,10950417,10950417</td>\n",
       "      <td>0,591325696,591325606</td>\n",
       "      <td>0,591321138,591321138</td>\n",
       "      <td>OFPT_MULTIPART_REPLY</td>\n",
       "      <td>OFPMP_PORT_STATS</td>\n",
       "    </tr>\n",
       "    <tr>\n",
       "      <th>457</th>\n",
       "      <td>2583,2583,2583</td>\n",
       "      <td>0,10973158,10973157</td>\n",
       "      <td>0,10973131,10973131</td>\n",
       "      <td>0,592552252,592552162</td>\n",
       "      <td>0,592547694,592547694</td>\n",
       "      <td>OFPT_MULTIPART_REPLY</td>\n",
       "      <td>OFPMP_PORT_STATS</td>\n",
       "    </tr>\n",
       "    <tr>\n",
       "      <th>458</th>\n",
       "      <td>2588,2588,2588</td>\n",
       "      <td>0,10996564,10996563</td>\n",
       "      <td>0,10996537,10996537</td>\n",
       "      <td>0,593816164,593816074</td>\n",
       "      <td>0,593811606,593811606</td>\n",
       "      <td>OFPT_MULTIPART_REPLY</td>\n",
       "      <td>OFPMP_PORT_STATS</td>\n",
       "    </tr>\n",
       "  </tbody>\n",
       "</table>\n",
       "<p>459 rows × 7 columns</p>\n",
       "</div>"
      ],
      "text/plain": [
       "       Duration sec           Tx packets           Rx packets  \\\n",
       "0       296,296,296      0,156100,156100      0,156080,156080   \n",
       "1       301,301,301      0,178839,178838      0,178818,178818   \n",
       "2       306,306,306      0,202832,202831      0,202811,202811   \n",
       "3       311,311,311      0,226949,226949      0,226929,226929   \n",
       "4       316,316,316      0,251056,251056      0,251036,251036   \n",
       "..              ...                  ...                  ...   \n",
       "454  2568,2568,2568  0,10904204,10904204  0,10904177,10904178   \n",
       "455  2573,2573,2573  0,10927395,10927395  0,10927369,10927369   \n",
       "456  2578,2578,2578  0,10950444,10950443  0,10950417,10950417   \n",
       "457  2583,2583,2583  0,10973158,10973157  0,10973131,10973131   \n",
       "458  2588,2588,2588  0,10996564,10996563  0,10996537,10996537   \n",
       "\n",
       "                  Tx bytes               Rx bytes                  Type  \\\n",
       "0        0,8432533,8432497      0,8428560,8428560  OFPT_MULTIPART_REPLY   \n",
       "1        0,9660439,9660349      0,9656412,9656412  OFPT_MULTIPART_REPLY   \n",
       "2      0,10956049,10955959    0,10952022,10952022  OFPT_MULTIPART_REPLY   \n",
       "3      0,12258355,12258319    0,12254382,12254382  OFPT_MULTIPART_REPLY   \n",
       "4      0,13560133,13560097    0,13556160,13556160  OFPT_MULTIPART_REPLY   \n",
       "..                     ...                    ...                   ...   \n",
       "454  0,588828736,588828700  0,588824178,588824232  OFPT_MULTIPART_REPLY   \n",
       "455  0,590081050,590081014  0,590076546,590076546  OFPT_MULTIPART_REPLY   \n",
       "456  0,591325696,591325606  0,591321138,591321138  OFPT_MULTIPART_REPLY   \n",
       "457  0,592552252,592552162  0,592547694,592547694  OFPT_MULTIPART_REPLY   \n",
       "458  0,593816164,593816074  0,593811606,593811606  OFPT_MULTIPART_REPLY   \n",
       "\n",
       "               Type.1  \n",
       "0    OFPMP_PORT_STATS  \n",
       "1    OFPMP_PORT_STATS  \n",
       "2    OFPMP_PORT_STATS  \n",
       "3    OFPMP_PORT_STATS  \n",
       "4    OFPMP_PORT_STATS  \n",
       "..                ...  \n",
       "454  OFPMP_PORT_STATS  \n",
       "455  OFPMP_PORT_STATS  \n",
       "456  OFPMP_PORT_STATS  \n",
       "457  OFPMP_PORT_STATS  \n",
       "458  OFPMP_PORT_STATS  \n",
       "\n",
       "[459 rows x 7 columns]"
      ]
     },
     "execution_count": 2,
     "metadata": {},
     "output_type": "execute_result"
    }
   ],
   "source": [
    "dataset = pd.read_csv(\"dataSet/attackMode0.csv\")\n",
    "dataset"
   ]
  },
  {
   "cell_type": "code",
   "execution_count": 3,
   "id": "22adfd9e",
   "metadata": {},
   "outputs": [
    {
     "name": "stdout",
     "output_type": "stream",
     "text": [
      "0      0,8432533,8432497\n",
      "1      0,9660439,9660349\n",
      "2    0,10956049,10955959\n",
      "3    0,12258355,12258319\n",
      "4    0,13560133,13560097\n",
      "Name: Tx bytes, dtype: object 0    0,156100,156100\n",
      "1    0,178839,178838\n",
      "2    0,202832,202831\n",
      "3    0,226949,226949\n",
      "4    0,251056,251056\n",
      "Name: Tx packets, dtype: object\n",
      "459 459\n"
     ]
    }
   ],
   "source": [
    "portTxbytes = (dataset['Tx bytes'])\n",
    "portTxpackets = (dataset['Tx packets'])\n",
    "\n",
    "\n",
    "print(portTxbytes[0:5],portTxpackets[0:5])\n",
    "\n",
    "print(len(portTxbytes),len(portTxpackets))"
   ]
  },
  {
   "cell_type": "code",
   "execution_count": 4,
   "id": "d7db845a",
   "metadata": {},
   "outputs": [
    {
     "data": {
      "text/plain": [
       "<matplotlib.legend.Legend at 0x19fb9aba7f0>"
      ]
     },
     "execution_count": 4,
     "metadata": {},
     "output_type": "execute_result"
    },
    {
     "data": {
      "image/png": "[encoded data removed]",
      "text/plain": [
       "<Figure size 432x288 with 1 Axes>"
      ]
     },
     "metadata": {
      "needs_background": "light"
     },
     "output_type": "display_data"
    }
   ],
   "source": [
    "plt.plot(portTxbytes)\n",
    "plt.plot(portTxpackets)\n",
    "plt.legend(['Tx-bytes', 'Tx-packets '])"
   ]
  },
  {
   "cell_type": "code",
   "execution_count": 5,
   "id": "595b2cc9",
   "metadata": {},
   "outputs": [
    {
     "name": "stdout",
     "output_type": "stream",
     "text": [
      "459\n",
      "459\n"
     ]
    }
   ],
   "source": [
    "hostTxbytes = []\n",
    "hostTxpackets =  []\n",
    "for i in portTxbytes:  \n",
    "    splitTins = i.split(',') \n",
    "    newArray = np.array(splitTins)    \n",
    "    hostTxbytes.append(newArray)       \n",
    "\n",
    "\n",
    "\n",
    "\n",
    "for j in portTxpackets:  \n",
    "    split_packs = j.split(',') \n",
    "    new_split_pack = np.array(split_packs)    \n",
    "    hostTxpackets.append(new_split_pack)       \n",
    "\n",
    "\n",
    "print(len(hostTxbytes))\n",
    "print(len(hostTxpackets))"
   ]
  },
  {
   "cell_type": "code",
   "execution_count": 6,
   "id": "50d351c7",
   "metadata": {},
   "outputs": [
    {
     "name": "stdout",
     "output_type": "stream",
     "text": [
      "(459, 3)\n",
      "-------\n",
      "(459, 3)\n"
     ]
    }
   ],
   "source": [
    "hostTxbytes_np = np.array(hostTxbytes)\n",
    "newTxBytes = hostTxbytes_np.astype(np.int)\n",
    "\n",
    "\n",
    "hostTxpackets_np = np.array(hostTxpackets)\n",
    "newTxPackets = hostTxpackets_np.astype(np.int)\n",
    "\n",
    "\n",
    "print(newTxBytes.shape)\n",
    "print(\"-------\")\n",
    "print(newTxPackets.shape)"
   ]
  },
  {
   "cell_type": "code",
   "execution_count": 7,
   "id": "08ce0f58",
   "metadata": {},
   "outputs": [
    {
     "name": "stdout",
     "output_type": "stream",
     "text": [
      "(458,)\n",
      "----\n",
      "(458,)\n"
     ]
    }
   ],
   "source": [
    "host1Txbytes = []\n",
    "host1Txpackets = []\n",
    "\n",
    "hostNumber = 1\n",
    "\n",
    "for i in list(newTxBytes):\n",
    "    host1Txbytes.append(i[hostNumber])\n",
    "    \n",
    "host1Txbytes_np = np.array(host1Txbytes)\n",
    "host1Txbytes_diff = (np.diff(host1Txbytes_np))\n",
    "\n",
    "\n",
    "\n",
    "for j in list(newTxPackets):\n",
    "    host1Txpackets.append(j[hostNumber])\n",
    "    \n",
    "host1Txpackets_np = np.array(host1Txpackets)\n",
    "host1Txpackets_diff = (np.diff(host1Txpackets_np))\n",
    "    \n",
    "\n",
    "\n",
    "\n",
    "\n",
    "print(host1Txbytes_diff.shape)\n",
    "print(\"----\")\n",
    "print(host1Txpackets_diff.shape)   "
   ]
  },
  {
   "cell_type": "code",
   "execution_count": 8,
   "id": "b3ddd55e",
   "metadata": {},
   "outputs": [
    {
     "data": {
      "text/plain": [
       "Text(0.5, 1.0, 'Normal Traffic if 5 seconds interval')"
      ]
     },
     "execution_count": 8,
     "metadata": {},
     "output_type": "execute_result"
    },
    {
     "data": {
      "image/png": "[encoded data removed]",
      "text/plain": [
       "<Figure size 432x288 with 1 Axes>"
      ]
     },
     "metadata": {
      "needs_background": "light"
     },
     "output_type": "display_data"
    }
   ],
   "source": [
    "plt.plot(host1Txbytes_diff)\n",
    "\n",
    "plt.xlabel('Frame number')\n",
    "plt.ylabel('Byte diffrence')\n",
    "plt.title(\"Normal Traffic if 5 seconds interval\")\n",
    "\n",
    "\n",
    "\n",
    "\n"
   ]
  },
  {
   "cell_type": "code",
   "execution_count": 9,
   "id": "18261ba2",
   "metadata": {},
   "outputs": [
    {
     "data": {
      "text/plain": [
       "Text(0.5, 1.0, 'Normal Traffic if 5 seconds interval')"
      ]
     },
     "execution_count": 9,
     "metadata": {},
     "output_type": "execute_result"
    },
    {
     "data": {
      "image/png": "[encoded data removed]",
      "text/plain": [
       "<Figure size 432x288 with 1 Axes>"
      ]
     },
     "metadata": {
      "needs_background": "light"
     },
     "output_type": "display_data"
    }
   ],
   "source": [
    "\n",
    "plt.plot(host1Txpackets_diff)\n",
    "plt.xlabel('Frame number')\n",
    "plt.ylabel('Packet diffrence')\n",
    "\n",
    "plt.title(\"Normal Traffic if 5 seconds interval\")"
   ]
  },
  {
   "cell_type": "code",
   "execution_count": 10,
   "id": "27d5541c",
   "metadata": {},
   "outputs": [],
   "source": [
    "txbytesDf = pd.DataFrame(host1Txbytes_diff, columns=['Tx byte difference '])\n",
    "txpacketsDf = pd.DataFrame(host1Txpackets_diff, columns=['Tx packets differnce'])\n",
    "statusDF = pd.DataFrame(np.ones(len(txbytesDf)), columns=['status'])\n"
   ]
  },
  {
   "cell_type": "code",
   "execution_count": 11,
   "id": "8711b782",
   "metadata": {},
   "outputs": [
    {
     "data": {
      "text/html": [
       "<div>\n",
       "<style scoped>\n",
       "    .dataframe tbody tr th:only-of-type {\n",
       "        vertical-align: middle;\n",
       "    }\n",
       "\n",
       "    .dataframe tbody tr th {\n",
       "        vertical-align: top;\n",
       "    }\n",
       "\n",
       "    .dataframe thead th {\n",
       "        text-align: right;\n",
       "    }\n",
       "</style>\n",
       "<table border=\"1\" class=\"dataframe\">\n",
       "  <thead>\n",
       "    <tr style=\"text-align: right;\">\n",
       "      <th></th>\n",
       "      <th>Tx byte difference</th>\n",
       "      <th>Tx packets differnce</th>\n",
       "      <th>status</th>\n",
       "    </tr>\n",
       "  </thead>\n",
       "  <tbody>\n",
       "    <tr>\n",
       "      <th>0</th>\n",
       "      <td>1227906</td>\n",
       "      <td>22739</td>\n",
       "      <td>1.0</td>\n",
       "    </tr>\n",
       "    <tr>\n",
       "      <th>1</th>\n",
       "      <td>1295610</td>\n",
       "      <td>23993</td>\n",
       "      <td>1.0</td>\n",
       "    </tr>\n",
       "    <tr>\n",
       "      <th>2</th>\n",
       "      <td>1302306</td>\n",
       "      <td>24117</td>\n",
       "      <td>1.0</td>\n",
       "    </tr>\n",
       "    <tr>\n",
       "      <th>3</th>\n",
       "      <td>1301778</td>\n",
       "      <td>24107</td>\n",
       "      <td>1.0</td>\n",
       "    </tr>\n",
       "    <tr>\n",
       "      <th>4</th>\n",
       "      <td>1270944</td>\n",
       "      <td>23536</td>\n",
       "      <td>1.0</td>\n",
       "    </tr>\n",
       "    <tr>\n",
       "      <th>...</th>\n",
       "      <td>...</td>\n",
       "      <td>...</td>\n",
       "      <td>...</td>\n",
       "    </tr>\n",
       "    <tr>\n",
       "      <th>453</th>\n",
       "      <td>1256796</td>\n",
       "      <td>23274</td>\n",
       "      <td>1.0</td>\n",
       "    </tr>\n",
       "    <tr>\n",
       "      <th>454</th>\n",
       "      <td>1252314</td>\n",
       "      <td>23191</td>\n",
       "      <td>1.0</td>\n",
       "    </tr>\n",
       "    <tr>\n",
       "      <th>455</th>\n",
       "      <td>1244646</td>\n",
       "      <td>23049</td>\n",
       "      <td>1.0</td>\n",
       "    </tr>\n",
       "    <tr>\n",
       "      <th>456</th>\n",
       "      <td>1226556</td>\n",
       "      <td>22714</td>\n",
       "      <td>1.0</td>\n",
       "    </tr>\n",
       "    <tr>\n",
       "      <th>457</th>\n",
       "      <td>1263912</td>\n",
       "      <td>23406</td>\n",
       "      <td>1.0</td>\n",
       "    </tr>\n",
       "  </tbody>\n",
       "</table>\n",
       "<p>458 rows × 3 columns</p>\n",
       "</div>"
      ],
      "text/plain": [
       "     Tx byte difference   Tx packets differnce  status\n",
       "0                1227906                 22739     1.0\n",
       "1                1295610                 23993     1.0\n",
       "2                1302306                 24117     1.0\n",
       "3                1301778                 24107     1.0\n",
       "4                1270944                 23536     1.0\n",
       "..                   ...                   ...     ...\n",
       "453              1256796                 23274     1.0\n",
       "454              1252314                 23191     1.0\n",
       "455              1244646                 23049     1.0\n",
       "456              1226556                 22714     1.0\n",
       "457              1263912                 23406     1.0\n",
       "\n",
       "[458 rows x 3 columns]"
      ]
     },
     "execution_count": 11,
     "metadata": {},
     "output_type": "execute_result"
    }
   ],
   "source": [
    "\n",
    "comp__ = [txbytesDf,txpacketsDf,statusDF]\n",
    "\n",
    "\n",
    "result = pd.concat(comp__, axis=1, join='inner')\n",
    "\n",
    "result"
   ]
  },
  {
   "cell_type": "code",
   "execution_count": 12,
   "id": "ca6b975d",
   "metadata": {},
   "outputs": [],
   "source": [
    "result.to_csv(\"dataSet/finalData_attack.csv\")"
   ]
  },
  {
   "cell_type": "code",
   "execution_count": null,
   "id": "e19d77ad",
   "metadata": {},
   "outputs": [],
   "source": []
  }
 ],
 "metadata": {
  "kernelspec": {
   "display_name": "Python 3 (ipykernel)",
   "language": "python",
   "name": "python3"
  },
  "language_info": {
   "codemirror_mode": {
    "name": "ipython",
    "version": 3
   },
   "file_extension": ".py",
   "mimetype": "text/x-python",
   "name": "python",
   "nbconvert_exporter": "python",
   "pygments_lexer": "ipython3",
   "version": "3.8.6"
  }
 },
 "nbformat": 4,
 "nbformat_minor": 5
}
